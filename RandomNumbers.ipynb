{
 "cells": [
  {
   "cell_type": "code",
   "execution_count": null,
   "metadata": {},
   "outputs": [],
   "source": [
    "import random \n",
    "number=random.randint(0,100)\n",
    "print(\"Your random number is \",number)"
   ]
  },
  {
   "cell_type": "code",
   "execution_count": 198,
   "metadata": {},
   "outputs": [
    {
     "name": "stdout",
     "output_type": "stream",
     "text": [
      "60\n"
     ]
    }
   ],
   "source": [
    "x=random.randrange(0,100,3)\n",
    "print(x)"
   ]
  },
  {
   "cell_type": "code",
   "execution_count": 50,
   "metadata": {},
   "outputs": [
    {
     "name": "stdout",
     "output_type": "stream",
     "text": [
      "Your random number is  85\n"
     ]
    }
   ],
   "source": [
    "from random import randint\n",
    "num=randint(0,100)\n",
    "print(\"Your random number is \",num)"
   ]
  },
  {
   "cell_type": "markdown",
   "metadata": {},
   "source": [
    "# Rolling a Dice\n",
    "\n",
    "I am going to now simulate a dice roll. My code shall give you the option to to choose which dice you would want to use."
   ]
  },
  {
   "cell_type": "code",
   "execution_count": null,
   "metadata": {},
   "outputs": [],
   "source": [
    "#The random library is already imported so I do not need to import it again\n",
    "\n",
    "def diceRoll(a):\n",
    "    while True:\n",
    "        end=input(\"Type anything to roll the dice or 'stop' to stop\").lower()\n",
    "        if end == \"stop\":\n",
    "            break\n",
    "        else:\n",
    "            roll=random.randint(0,a)\n",
    "            print(roll)\n",
    "        \n",
    "\n",
    "false= False\n",
    "while false== False:\n",
    "    sideNum= int(input(\"What sided dice would you like to use?\"))\n",
    "    if sideNum > 18 or sideNum < 0 :\n",
    "        print(\"Sorry this program doesn't cover that dice\")\n",
    "    else:\n",
    "        diceRoll(sideNum)"
   ]
  }
 ],
 "metadata": {
  "kernelspec": {
   "display_name": "Python 3",
   "language": "python",
   "name": "python3"
  },
  "language_info": {
   "codemirror_mode": {
    "name": "ipython",
    "version": 3
   },
   "file_extension": ".py",
   "mimetype": "text/x-python",
   "name": "python",
   "nbconvert_exporter": "python",
   "pygments_lexer": "ipython3",
   "version": "3.5.2"
  }
 },
 "nbformat": 4,
 "nbformat_minor": 2
}
